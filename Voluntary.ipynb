{
 "cells": [
  {
   "cell_type": "code",
   "execution_count": 1,
   "id": "0c36cd98",
   "metadata": {},
   "outputs": [],
   "source": [
    "#Packages to be installed\n",
    "import os\n",
    "import glob\n",
    "import numpy as np\n",
    "import pandas as pd\n",
    "import matplotlib.pyplot as plt\n",
    "# netcdf4 needs to be installed in your environment for this to work\n",
    "import xarray as xr\n",
    "import rioxarray \n",
    "import cartopy.crs as ccrs # For interactive mapping \n",
    "import cartopy.feature as cfeature\n",
    "import seaborn as sns\n",
    "import geopandas as gpd\n",
    "import earthpy as et"
   ]
  },
  {
   "cell_type": "code",
   "execution_count": 11,
   "id": "97a74abd",
   "metadata": {},
   "outputs": [
    {
     "data": {
      "text/html": [
       "<div><svg style=\"position: absolute; width: 0; height: 0; overflow: hidden\">\n",
       "<defs>\n",
       "<symbol id=\"icon-database\" viewBox=\"0 0 32 32\">\n",
       "<path d=\"M16 0c-8.837 0-16 2.239-16 5v4c0 2.761 7.163 5 16 5s16-2.239 16-5v-4c0-2.761-7.163-5-16-5z\"></path>\n",
       "<path d=\"M16 17c-8.837 0-16-2.239-16-5v6c0 2.761 7.163 5 16 5s16-2.239 16-5v-6c0 2.761-7.163 5-16 5z\"></path>\n",
       "<path d=\"M16 26c-8.837 0-16-2.239-16-5v6c0 2.761 7.163 5 16 5s16-2.239 16-5v-6c0 2.761-7.163 5-16 5z\"></path>\n",
       "</symbol>\n",
       "<symbol id=\"icon-file-text2\" viewBox=\"0 0 32 32\">\n",
       "<path d=\"M28.681 7.159c-0.694-0.947-1.662-2.053-2.724-3.116s-2.169-2.030-3.116-2.724c-1.612-1.182-2.393-1.319-2.841-1.319h-15.5c-1.378 0-2.5 1.121-2.5 2.5v27c0 1.378 1.122 2.5 2.5 2.5h23c1.378 0 2.5-1.122 2.5-2.5v-19.5c0-0.448-0.137-1.23-1.319-2.841zM24.543 5.457c0.959 0.959 1.712 1.825 2.268 2.543h-4.811v-4.811c0.718 0.556 1.584 1.309 2.543 2.268zM28 29.5c0 0.271-0.229 0.5-0.5 0.5h-23c-0.271 0-0.5-0.229-0.5-0.5v-27c0-0.271 0.229-0.5 0.5-0.5 0 0 15.499-0 15.5 0v7c0 0.552 0.448 1 1 1h7v19.5z\"></path>\n",
       "<path d=\"M23 26h-14c-0.552 0-1-0.448-1-1s0.448-1 1-1h14c0.552 0 1 0.448 1 1s-0.448 1-1 1z\"></path>\n",
       "<path d=\"M23 22h-14c-0.552 0-1-0.448-1-1s0.448-1 1-1h14c0.552 0 1 0.448 1 1s-0.448 1-1 1z\"></path>\n",
       "<path d=\"M23 18h-14c-0.552 0-1-0.448-1-1s0.448-1 1-1h14c0.552 0 1 0.448 1 1s-0.448 1-1 1z\"></path>\n",
       "</symbol>\n",
       "</defs>\n",
       "</svg>\n",
       "<style>/* CSS stylesheet for displaying xarray objects in jupyterlab.\n",
       " *\n",
       " */\n",
       "\n",
       ":root {\n",
       "  --xr-font-color0: var(--jp-content-font-color0, rgba(0, 0, 0, 1));\n",
       "  --xr-font-color2: var(--jp-content-font-color2, rgba(0, 0, 0, 0.54));\n",
       "  --xr-font-color3: var(--jp-content-font-color3, rgba(0, 0, 0, 0.38));\n",
       "  --xr-border-color: var(--jp-border-color2, #e0e0e0);\n",
       "  --xr-disabled-color: var(--jp-layout-color3, #bdbdbd);\n",
       "  --xr-background-color: var(--jp-layout-color0, white);\n",
       "  --xr-background-color-row-even: var(--jp-layout-color1, white);\n",
       "  --xr-background-color-row-odd: var(--jp-layout-color2, #eeeeee);\n",
       "}\n",
       "\n",
       "html[theme=dark],\n",
       "body.vscode-dark {\n",
       "  --xr-font-color0: rgba(255, 255, 255, 1);\n",
       "  --xr-font-color2: rgba(255, 255, 255, 0.54);\n",
       "  --xr-font-color3: rgba(255, 255, 255, 0.38);\n",
       "  --xr-border-color: #1F1F1F;\n",
       "  --xr-disabled-color: #515151;\n",
       "  --xr-background-color: #111111;\n",
       "  --xr-background-color-row-even: #111111;\n",
       "  --xr-background-color-row-odd: #313131;\n",
       "}\n",
       "\n",
       ".xr-wrap {\n",
       "  display: block;\n",
       "  min-width: 300px;\n",
       "  max-width: 700px;\n",
       "}\n",
       "\n",
       ".xr-text-repr-fallback {\n",
       "  /* fallback to plain text repr when CSS is not injected (untrusted notebook) */\n",
       "  display: none;\n",
       "}\n",
       "\n",
       ".xr-header {\n",
       "  padding-top: 6px;\n",
       "  padding-bottom: 6px;\n",
       "  margin-bottom: 4px;\n",
       "  border-bottom: solid 1px var(--xr-border-color);\n",
       "}\n",
       "\n",
       ".xr-header > div,\n",
       ".xr-header > ul {\n",
       "  display: inline;\n",
       "  margin-top: 0;\n",
       "  margin-bottom: 0;\n",
       "}\n",
       "\n",
       ".xr-obj-type,\n",
       ".xr-array-name {\n",
       "  margin-left: 2px;\n",
       "  margin-right: 10px;\n",
       "}\n",
       "\n",
       ".xr-obj-type {\n",
       "  color: var(--xr-font-color2);\n",
       "}\n",
       "\n",
       ".xr-sections {\n",
       "  padding-left: 0 !important;\n",
       "  display: grid;\n",
       "  grid-template-columns: 150px auto auto 1fr 20px 20px;\n",
       "}\n",
       "\n",
       ".xr-section-item {\n",
       "  display: contents;\n",
       "}\n",
       "\n",
       ".xr-section-item input {\n",
       "  display: none;\n",
       "}\n",
       "\n",
       ".xr-section-item input + label {\n",
       "  color: var(--xr-disabled-color);\n",
       "}\n",
       "\n",
       ".xr-section-item input:enabled + label {\n",
       "  cursor: pointer;\n",
       "  color: var(--xr-font-color2);\n",
       "}\n",
       "\n",
       ".xr-section-item input:enabled + label:hover {\n",
       "  color: var(--xr-font-color0);\n",
       "}\n",
       "\n",
       ".xr-section-summary {\n",
       "  grid-column: 1;\n",
       "  color: var(--xr-font-color2);\n",
       "  font-weight: 500;\n",
       "}\n",
       "\n",
       ".xr-section-summary > span {\n",
       "  display: inline-block;\n",
       "  padding-left: 0.5em;\n",
       "}\n",
       "\n",
       ".xr-section-summary-in:disabled + label {\n",
       "  color: var(--xr-font-color2);\n",
       "}\n",
       "\n",
       ".xr-section-summary-in + label:before {\n",
       "  display: inline-block;\n",
       "  content: '►';\n",
       "  font-size: 11px;\n",
       "  width: 15px;\n",
       "  text-align: center;\n",
       "}\n",
       "\n",
       ".xr-section-summary-in:disabled + label:before {\n",
       "  color: var(--xr-disabled-color);\n",
       "}\n",
       "\n",
       ".xr-section-summary-in:checked + label:before {\n",
       "  content: '▼';\n",
       "}\n",
       "\n",
       ".xr-section-summary-in:checked + label > span {\n",
       "  display: none;\n",
       "}\n",
       "\n",
       ".xr-section-summary,\n",
       ".xr-section-inline-details {\n",
       "  padding-top: 4px;\n",
       "  padding-bottom: 4px;\n",
       "}\n",
       "\n",
       ".xr-section-inline-details {\n",
       "  grid-column: 2 / -1;\n",
       "}\n",
       "\n",
       ".xr-section-details {\n",
       "  display: none;\n",
       "  grid-column: 1 / -1;\n",
       "  margin-bottom: 5px;\n",
       "}\n",
       "\n",
       ".xr-section-summary-in:checked ~ .xr-section-details {\n",
       "  display: contents;\n",
       "}\n",
       "\n",
       ".xr-array-wrap {\n",
       "  grid-column: 1 / -1;\n",
       "  display: grid;\n",
       "  grid-template-columns: 20px auto;\n",
       "}\n",
       "\n",
       ".xr-array-wrap > label {\n",
       "  grid-column: 1;\n",
       "  vertical-align: top;\n",
       "}\n",
       "\n",
       ".xr-preview {\n",
       "  color: var(--xr-font-color3);\n",
       "}\n",
       "\n",
       ".xr-array-preview,\n",
       ".xr-array-data {\n",
       "  padding: 0 5px !important;\n",
       "  grid-column: 2;\n",
       "}\n",
       "\n",
       ".xr-array-data,\n",
       ".xr-array-in:checked ~ .xr-array-preview {\n",
       "  display: none;\n",
       "}\n",
       "\n",
       ".xr-array-in:checked ~ .xr-array-data,\n",
       ".xr-array-preview {\n",
       "  display: inline-block;\n",
       "}\n",
       "\n",
       ".xr-dim-list {\n",
       "  display: inline-block !important;\n",
       "  list-style: none;\n",
       "  padding: 0 !important;\n",
       "  margin: 0;\n",
       "}\n",
       "\n",
       ".xr-dim-list li {\n",
       "  display: inline-block;\n",
       "  padding: 0;\n",
       "  margin: 0;\n",
       "}\n",
       "\n",
       ".xr-dim-list:before {\n",
       "  content: '(';\n",
       "}\n",
       "\n",
       ".xr-dim-list:after {\n",
       "  content: ')';\n",
       "}\n",
       "\n",
       ".xr-dim-list li:not(:last-child):after {\n",
       "  content: ',';\n",
       "  padding-right: 5px;\n",
       "}\n",
       "\n",
       ".xr-has-index {\n",
       "  font-weight: bold;\n",
       "}\n",
       "\n",
       ".xr-var-list,\n",
       ".xr-var-item {\n",
       "  display: contents;\n",
       "}\n",
       "\n",
       ".xr-var-item > div,\n",
       ".xr-var-item label,\n",
       ".xr-var-item > .xr-var-name span {\n",
       "  background-color: var(--xr-background-color-row-even);\n",
       "  margin-bottom: 0;\n",
       "}\n",
       "\n",
       ".xr-var-item > .xr-var-name:hover span {\n",
       "  padding-right: 5px;\n",
       "}\n",
       "\n",
       ".xr-var-list > li:nth-child(odd) > div,\n",
       ".xr-var-list > li:nth-child(odd) > label,\n",
       ".xr-var-list > li:nth-child(odd) > .xr-var-name span {\n",
       "  background-color: var(--xr-background-color-row-odd);\n",
       "}\n",
       "\n",
       ".xr-var-name {\n",
       "  grid-column: 1;\n",
       "}\n",
       "\n",
       ".xr-var-dims {\n",
       "  grid-column: 2;\n",
       "}\n",
       "\n",
       ".xr-var-dtype {\n",
       "  grid-column: 3;\n",
       "  text-align: right;\n",
       "  color: var(--xr-font-color2);\n",
       "}\n",
       "\n",
       ".xr-var-preview {\n",
       "  grid-column: 4;\n",
       "}\n",
       "\n",
       ".xr-var-name,\n",
       ".xr-var-dims,\n",
       ".xr-var-dtype,\n",
       ".xr-preview,\n",
       ".xr-attrs dt {\n",
       "  white-space: nowrap;\n",
       "  overflow: hidden;\n",
       "  text-overflow: ellipsis;\n",
       "  padding-right: 10px;\n",
       "}\n",
       "\n",
       ".xr-var-name:hover,\n",
       ".xr-var-dims:hover,\n",
       ".xr-var-dtype:hover,\n",
       ".xr-attrs dt:hover {\n",
       "  overflow: visible;\n",
       "  width: auto;\n",
       "  z-index: 1;\n",
       "}\n",
       "\n",
       ".xr-var-attrs,\n",
       ".xr-var-data {\n",
       "  display: none;\n",
       "  background-color: var(--xr-background-color) !important;\n",
       "  padding-bottom: 5px !important;\n",
       "}\n",
       "\n",
       ".xr-var-attrs-in:checked ~ .xr-var-attrs,\n",
       ".xr-var-data-in:checked ~ .xr-var-data {\n",
       "  display: block;\n",
       "}\n",
       "\n",
       ".xr-var-data > table {\n",
       "  float: right;\n",
       "}\n",
       "\n",
       ".xr-var-name span,\n",
       ".xr-var-data,\n",
       ".xr-attrs {\n",
       "  padding-left: 25px !important;\n",
       "}\n",
       "\n",
       ".xr-attrs,\n",
       ".xr-var-attrs,\n",
       ".xr-var-data {\n",
       "  grid-column: 1 / -1;\n",
       "}\n",
       "\n",
       "dl.xr-attrs {\n",
       "  padding: 0;\n",
       "  margin: 0;\n",
       "  display: grid;\n",
       "  grid-template-columns: 125px auto;\n",
       "}\n",
       "\n",
       ".xr-attrs dt,\n",
       ".xr-attrs dd {\n",
       "  padding: 0;\n",
       "  margin: 0;\n",
       "  float: left;\n",
       "  padding-right: 10px;\n",
       "  width: auto;\n",
       "}\n",
       "\n",
       ".xr-attrs dt {\n",
       "  font-weight: normal;\n",
       "  grid-column: 1;\n",
       "}\n",
       "\n",
       ".xr-attrs dt:hover span {\n",
       "  display: inline-block;\n",
       "  background: var(--xr-background-color);\n",
       "  padding-right: 10px;\n",
       "}\n",
       "\n",
       ".xr-attrs dd {\n",
       "  grid-column: 2;\n",
       "  white-space: pre-wrap;\n",
       "  word-break: break-all;\n",
       "}\n",
       "\n",
       ".xr-icon-database,\n",
       ".xr-icon-file-text2 {\n",
       "  display: inline-block;\n",
       "  vertical-align: middle;\n",
       "  width: 1em;\n",
       "  height: 1.5em !important;\n",
       "  stroke-width: 0;\n",
       "  stroke: currentColor;\n",
       "  fill: currentColor;\n",
       "}\n",
       "</style><pre class='xr-text-repr-fallback'>&lt;xarray.Dataset&gt;\n",
       "Dimensions:                    (bnds: 2, lat: 8, lon: 10, time: 1)\n",
       "Coordinates:\n",
       "  * time                       (time) datetime64[ns] 2001-01-01\n",
       "  * lon                        (lon) float32 84.62 84.88 85.12 ... 86.62 86.88\n",
       "  * lat                        (lat) float32 26.62 26.88 27.12 ... 28.12 28.38\n",
       "Dimensions without coordinates: bnds\n",
       "Data variables:\n",
       "    time_bnds                  (time, bnds) datetime64[ns] 2001-01-01 2001-01...\n",
       "    precipitationCal           (time, lon, lat) float32 7.939 4.101 ... 2.319\n",
       "    precipitationCal_cnt       (time, lon, lat) int8 48 48 48 48 ... 48 48 48 48\n",
       "    precipitationCal_cnt_cond  (time, lon, lat) int8 8 5 4 4 3 3 ... 6 9 15 19 9\n",
       "    HQprecipitation            (time, lon, lat) float32 0.21 0.03083 ... 0.0 0.0\n",
       "    HQprecipitation_cnt        (time, lon, lat) int8 6 6 6 6 6 6 ... 6 6 6 6 6 6\n",
       "    HQprecipitation_cnt_cond   (time, lon, lat) int8 1 0 0 0 0 0 ... 1 0 0 0 0 0\n",
       "    randomError                (time, lon, lat) float32 13.76 9.398 ... 5.54\n",
       "    randomError_cnt            (time, lon, lat) int8 48 48 48 48 ... 48 48 48 48\n",
       "Attributes: (12/13)\n",
       "    CDI:             Climate Data Interface version 1.9.3 (http://mpimet.mpg....\n",
       "    Conventions:     CF-1.6\n",
       "    history:         Thu Jul 22 17:26:53 2021: cdo -remapcon,C:/SuSe2021/Remo...\n",
       "    BeginDate:       2001-01-01\n",
       "    BeginTime:       00:00:00.000Z\n",
       "    EndDate:         2001-01-01\n",
       "    ...              ...\n",
       "    FileHeader:      StartGranuleDateTime=2001-01-01T00:00:00.000Z;\\nStopGran...\n",
       "    InputPointer:    3B-HHR.MS.MRG.3IMERG.20010101-S000000-E002959.0000.V06B....\n",
       "    title:           GPM IMERG Final Precipitation L3 1 day 0.1 degree x 0.1 ...\n",
       "    DOI:             10.5067/GPM/IMERGDF/DAY/06\n",
       "    ProductionTime:  2019-06-19T21:01:03.134Z\n",
       "    CDO:             Climate Data Operators version 1.9.4rc1 (http://mpimet.m...</pre><div class='xr-wrap' hidden><div class='xr-header'><div class='xr-obj-type'>xarray.Dataset</div></div><ul class='xr-sections'><li class='xr-section-item'><input id='section-e2c28f4b-5602-4473-b347-b1a7451dc21f' class='xr-section-summary-in' type='checkbox' disabled ><label for='section-e2c28f4b-5602-4473-b347-b1a7451dc21f' class='xr-section-summary'  title='Expand/collapse section'>Dimensions:</label><div class='xr-section-inline-details'><ul class='xr-dim-list'><li><span>bnds</span>: 2</li><li><span class='xr-has-index'>lat</span>: 8</li><li><span class='xr-has-index'>lon</span>: 10</li><li><span class='xr-has-index'>time</span>: 1</li></ul></div><div class='xr-section-details'></div></li><li class='xr-section-item'><input id='section-79400d40-af74-4c92-9d9e-a88a66bd99af' class='xr-section-summary-in' type='checkbox'  checked><label for='section-79400d40-af74-4c92-9d9e-a88a66bd99af' class='xr-section-summary' >Coordinates: <span>(3)</span></label><div class='xr-section-inline-details'></div><div class='xr-section-details'><ul class='xr-var-list'><li class='xr-var-item'><div class='xr-var-name'><span class='xr-has-index'>time</span></div><div class='xr-var-dims'>(time)</div><div class='xr-var-dtype'>datetime64[ns]</div><div class='xr-var-preview xr-preview'>2001-01-01</div><input id='attrs-c7e8be17-4cd4-4beb-b5c6-d8b9b31eeefa' class='xr-var-attrs-in' type='checkbox' ><label for='attrs-c7e8be17-4cd4-4beb-b5c6-d8b9b31eeefa' title='Show/Hide attributes'><svg class='icon xr-icon-file-text2'><use xlink:href='#icon-file-text2'></use></svg></label><input id='data-31a79f88-7416-44f0-b791-95dd8c35b93f' class='xr-var-data-in' type='checkbox'><label for='data-31a79f88-7416-44f0-b791-95dd8c35b93f' title='Show/Hide data repr'><svg class='icon xr-icon-database'><use xlink:href='#icon-database'></use></svg></label><div class='xr-var-attrs'><dl class='xr-attrs'><dt><span>standard_name :</span></dt><dd>time</dd><dt><span>bounds :</span></dt><dd>time_bnds</dd><dt><span>axis :</span></dt><dd>T</dd></dl></div><div class='xr-var-data'><pre>array([&#x27;2001-01-01T00:00:00.000000000&#x27;], dtype=&#x27;datetime64[ns]&#x27;)</pre></div></li><li class='xr-var-item'><div class='xr-var-name'><span class='xr-has-index'>lon</span></div><div class='xr-var-dims'>(lon)</div><div class='xr-var-dtype'>float32</div><div class='xr-var-preview xr-preview'>84.62 84.88 85.12 ... 86.62 86.88</div><input id='attrs-e58eee3c-dc21-45d6-86b0-b946d1257b15' class='xr-var-attrs-in' type='checkbox' ><label for='attrs-e58eee3c-dc21-45d6-86b0-b946d1257b15' title='Show/Hide attributes'><svg class='icon xr-icon-file-text2'><use xlink:href='#icon-file-text2'></use></svg></label><input id='data-79d3a916-01ed-427e-beca-1529d19607e0' class='xr-var-data-in' type='checkbox'><label for='data-79d3a916-01ed-427e-beca-1529d19607e0' title='Show/Hide data repr'><svg class='icon xr-icon-database'><use xlink:href='#icon-database'></use></svg></label><div class='xr-var-attrs'><dl class='xr-attrs'><dt><span>standard_name :</span></dt><dd>longitude</dd><dt><span>long_name :</span></dt><dd>Longitude</dd><dt><span>units :</span></dt><dd>degrees_east</dd><dt><span>axis :</span></dt><dd>X</dd></dl></div><div class='xr-var-data'><pre>array([84.625, 84.875, 85.125, 85.375, 85.625, 85.875, 86.125, 86.375, 86.625,\n",
       "       86.875], dtype=float32)</pre></div></li><li class='xr-var-item'><div class='xr-var-name'><span class='xr-has-index'>lat</span></div><div class='xr-var-dims'>(lat)</div><div class='xr-var-dtype'>float32</div><div class='xr-var-preview xr-preview'>26.62 26.88 27.12 ... 28.12 28.38</div><input id='attrs-9b4c15d4-4760-4212-9547-9914393e19b1' class='xr-var-attrs-in' type='checkbox' ><label for='attrs-9b4c15d4-4760-4212-9547-9914393e19b1' title='Show/Hide attributes'><svg class='icon xr-icon-file-text2'><use xlink:href='#icon-file-text2'></use></svg></label><input id='data-564d127e-1e75-482d-9c87-2b715b62d686' class='xr-var-data-in' type='checkbox'><label for='data-564d127e-1e75-482d-9c87-2b715b62d686' title='Show/Hide data repr'><svg class='icon xr-icon-database'><use xlink:href='#icon-database'></use></svg></label><div class='xr-var-attrs'><dl class='xr-attrs'><dt><span>standard_name :</span></dt><dd>latitude</dd><dt><span>long_name :</span></dt><dd>Latitude</dd><dt><span>units :</span></dt><dd>degrees_north</dd><dt><span>axis :</span></dt><dd>Y</dd></dl></div><div class='xr-var-data'><pre>array([26.625, 26.875, 27.125, 27.375, 27.625, 27.875, 28.125, 28.375],\n",
       "      dtype=float32)</pre></div></li></ul></div></li><li class='xr-section-item'><input id='section-da936094-0dc2-4c4a-9e59-fc35a5c7d3f7' class='xr-section-summary-in' type='checkbox'  checked><label for='section-da936094-0dc2-4c4a-9e59-fc35a5c7d3f7' class='xr-section-summary' >Data variables: <span>(9)</span></label><div class='xr-section-inline-details'></div><div class='xr-section-details'><ul class='xr-var-list'><li class='xr-var-item'><div class='xr-var-name'><span>time_bnds</span></div><div class='xr-var-dims'>(time, bnds)</div><div class='xr-var-dtype'>datetime64[ns]</div><div class='xr-var-preview xr-preview'>...</div><input id='attrs-33a954d7-024c-466a-8c8d-3105692084c9' class='xr-var-attrs-in' type='checkbox' disabled><label for='attrs-33a954d7-024c-466a-8c8d-3105692084c9' title='Show/Hide attributes'><svg class='icon xr-icon-file-text2'><use xlink:href='#icon-file-text2'></use></svg></label><input id='data-5d7b808d-049d-44bd-b6e8-9270c6e828ac' class='xr-var-data-in' type='checkbox'><label for='data-5d7b808d-049d-44bd-b6e8-9270c6e828ac' title='Show/Hide data repr'><svg class='icon xr-icon-database'><use xlink:href='#icon-database'></use></svg></label><div class='xr-var-attrs'><dl class='xr-attrs'></dl></div><div class='xr-var-data'><pre>array([[&#x27;2001-01-01T00:00:00.000000000&#x27;, &#x27;2001-01-01T23:59:58.999999872&#x27;]],\n",
       "      dtype=&#x27;datetime64[ns]&#x27;)</pre></div></li><li class='xr-var-item'><div class='xr-var-name'><span>precipitationCal</span></div><div class='xr-var-dims'>(time, lon, lat)</div><div class='xr-var-dtype'>float32</div><div class='xr-var-preview xr-preview'>...</div><input id='attrs-bd6dbb10-1dc7-4af3-a8ed-98079c3e5c29' class='xr-var-attrs-in' type='checkbox' ><label for='attrs-bd6dbb10-1dc7-4af3-a8ed-98079c3e5c29' title='Show/Hide attributes'><svg class='icon xr-icon-file-text2'><use xlink:href='#icon-file-text2'></use></svg></label><input id='data-a6e2044e-7b17-4051-b042-387a40a16061' class='xr-var-data-in' type='checkbox'><label for='data-a6e2044e-7b17-4051-b042-387a40a16061' title='Show/Hide data repr'><svg class='icon xr-icon-database'><use xlink:href='#icon-database'></use></svg></label><div class='xr-var-attrs'><dl class='xr-attrs'><dt><span>long_name :</span></dt><dd>Daily accumulated precipitation (combined microwave-IR) estimate</dd><dt><span>units :</span></dt><dd>mm</dd></dl></div><div class='xr-var-data'><pre>array([[[7.939277, 4.100601, 3.485792, 4.426757, 5.145656, 5.807036,\n",
       "         4.598684, 3.612243],\n",
       "        [7.40821 , 3.839102, 3.093359, 4.570705, 4.811037, 6.30424 ,\n",
       "         4.703712, 4.184059],\n",
       "        [7.360559, 3.467139, 4.811563, 3.876153, 3.686687, 5.143263,\n",
       "         3.80903 , 1.641932],\n",
       "        [7.501633, 4.036004, 5.034441, 4.091023, 2.28276 , 4.531694,\n",
       "         4.456031, 1.950254],\n",
       "        [7.079291, 4.270358, 4.193121, 4.314427, 2.668164, 3.828634,\n",
       "         2.817237, 1.412392],\n",
       "        [6.031432, 4.601288, 3.417992, 4.9225  , 4.434412, 4.101393,\n",
       "         2.435205, 1.474981],\n",
       "        [4.294596, 4.717297, 4.72664 , 5.43193 , 5.293483, 4.899584,\n",
       "         3.19276 , 1.119993],\n",
       "        [3.905682, 4.374739, 4.504481, 5.45263 , 5.428754, 4.619717,\n",
       "         2.78662 , 0.790457],\n",
       "        [3.673625, 3.800684, 5.121888, 5.775537, 6.201957, 4.996327,\n",
       "         3.251034, 1.273643],\n",
       "        [4.346253, 5.511858, 3.621719, 3.501254, 5.264091, 6.232352,\n",
       "         5.558873, 2.319261]]], dtype=float32)</pre></div></li><li class='xr-var-item'><div class='xr-var-name'><span>precipitationCal_cnt</span></div><div class='xr-var-dims'>(time, lon, lat)</div><div class='xr-var-dtype'>int8</div><div class='xr-var-preview xr-preview'>...</div><input id='attrs-c7757aec-2185-419a-82fb-708f5ea9b814' class='xr-var-attrs-in' type='checkbox' ><label for='attrs-c7757aec-2185-419a-82fb-708f5ea9b814' title='Show/Hide attributes'><svg class='icon xr-icon-file-text2'><use xlink:href='#icon-file-text2'></use></svg></label><input id='data-d29bdc11-118d-4601-ba13-a1e9d9f3611d' class='xr-var-data-in' type='checkbox'><label for='data-d29bdc11-118d-4601-ba13-a1e9d9f3611d' title='Show/Hide data repr'><svg class='icon xr-icon-database'><use xlink:href='#icon-database'></use></svg></label><div class='xr-var-attrs'><dl class='xr-attrs'><dt><span>long_name :</span></dt><dd>Count of all valid half-hourly precipitationCal retrievals for the day</dd><dt><span>units :</span></dt><dd>count</dd></dl></div><div class='xr-var-data'><pre>array([[[48, 48, 48, 48, 48, 48, 48, 48],\n",
       "        [48, 48, 48, 48, 48, 48, 48, 48],\n",
       "        [48, 48, 48, 48, 48, 48, 48, 48],\n",
       "        [48, 48, 48, 48, 48, 48, 48, 48],\n",
       "        [48, 48, 48, 48, 48, 48, 48, 48],\n",
       "        [48, 48, 48, 48, 48, 48, 48, 48],\n",
       "        [48, 48, 48, 48, 48, 48, 48, 48],\n",
       "        [48, 48, 48, 48, 48, 48, 48, 48],\n",
       "        [48, 48, 48, 48, 48, 48, 48, 48],\n",
       "        [48, 48, 48, 48, 48, 48, 48, 48]]], dtype=int8)</pre></div></li><li class='xr-var-item'><div class='xr-var-name'><span>precipitationCal_cnt_cond</span></div><div class='xr-var-dims'>(time, lon, lat)</div><div class='xr-var-dtype'>int8</div><div class='xr-var-preview xr-preview'>...</div><input id='attrs-217fc4da-439d-4319-b926-2ad717006681' class='xr-var-attrs-in' type='checkbox' ><label for='attrs-217fc4da-439d-4319-b926-2ad717006681' title='Show/Hide attributes'><svg class='icon xr-icon-file-text2'><use xlink:href='#icon-file-text2'></use></svg></label><input id='data-c0752ea2-fe63-4525-899c-6251ad14e416' class='xr-var-data-in' type='checkbox'><label for='data-c0752ea2-fe63-4525-899c-6251ad14e416' title='Show/Hide data repr'><svg class='icon xr-icon-database'><use xlink:href='#icon-database'></use></svg></label><div class='xr-var-attrs'><dl class='xr-attrs'><dt><span>long_name :</span></dt><dd>Count of valid half-hourly precipitationCal retrievals for the day where precipitation is greater than 0</dd><dt><span>units :</span></dt><dd>count</dd></dl></div><div class='xr-var-data'><pre>array([[[ 8,  5,  4,  4,  3,  3,  3, 11],\n",
       "        [18,  6,  5,  4,  3,  3,  5,  9],\n",
       "        [18,  8,  6,  5,  4,  4,  5,  6],\n",
       "        [12,  8,  8,  6,  5,  4,  6,  7],\n",
       "        [11,  8,  8,  9,  7,  6,  9, 11],\n",
       "        [12,  8,  7,  8,  7,  9, 10, 12],\n",
       "        [12,  8,  8,  7,  8, 10, 11,  8],\n",
       "        [12,  9,  9,  9, 10, 13, 13,  9],\n",
       "        [14, 12, 10,  9, 10, 15, 16,  8],\n",
       "        [18, 13,  9,  6,  9, 15, 19,  9]]], dtype=int8)</pre></div></li><li class='xr-var-item'><div class='xr-var-name'><span>HQprecipitation</span></div><div class='xr-var-dims'>(time, lon, lat)</div><div class='xr-var-dtype'>float32</div><div class='xr-var-preview xr-preview'>...</div><input id='attrs-0b167562-647a-4792-83e2-247db07c68f5' class='xr-var-attrs-in' type='checkbox' ><label for='attrs-0b167562-647a-4792-83e2-247db07c68f5' title='Show/Hide attributes'><svg class='icon xr-icon-file-text2'><use xlink:href='#icon-file-text2'></use></svg></label><input id='data-42c9b3d4-0e71-4af6-8438-ece4aa8cb73e' class='xr-var-data-in' type='checkbox'><label for='data-42c9b3d4-0e71-4af6-8438-ece4aa8cb73e' title='Show/Hide data repr'><svg class='icon xr-icon-database'><use xlink:href='#icon-database'></use></svg></label><div class='xr-var-attrs'><dl class='xr-attrs'><dt><span>long_name :</span></dt><dd>Daily accumulated High Quality precipitation from all available MW sources</dd><dt><span>units :</span></dt><dd>mm</dd></dl></div><div class='xr-var-data'><pre>array([[[0.210042, 0.030831, 0.      , 0.      , 0.      , 0.      ,\n",
       "         0.      , 0.      ],\n",
       "        [0.401695, 0.      , 0.      , 0.      , 0.      , 0.      ,\n",
       "         0.      , 0.      ],\n",
       "        [0.393719, 0.091247, 0.      , 0.      , 0.      , 0.      ,\n",
       "         0.      , 0.      ],\n",
       "        [0.172853, 0.      , 0.      , 0.012001, 0.      , 0.      ,\n",
       "         0.      , 0.      ],\n",
       "        [0.103664, 0.104003, 0.056205, 0.106617, 0.009607, 0.      ,\n",
       "         0.      , 0.      ],\n",
       "        [0.140491, 0.028816, 0.011394, 0.033828, 0.      , 0.      ,\n",
       "         0.      , 0.      ],\n",
       "        [0.054002, 0.007607, 0.013604, 0.      , 0.      , 0.      ,\n",
       "         0.      , 0.      ],\n",
       "        [0.151145, 0.054448, 0.014401, 0.      , 0.      , 0.      ,\n",
       "         0.      , 0.      ],\n",
       "        [0.185236, 0.277169, 0.09646 , 0.      , 0.      , 0.      ,\n",
       "         0.      , 0.      ],\n",
       "        [2.374499, 0.553703, 0.086863, 0.      , 0.      , 0.      ,\n",
       "         0.      , 0.      ]]], dtype=float32)</pre></div></li><li class='xr-var-item'><div class='xr-var-name'><span>HQprecipitation_cnt</span></div><div class='xr-var-dims'>(time, lon, lat)</div><div class='xr-var-dtype'>int8</div><div class='xr-var-preview xr-preview'>...</div><input id='attrs-03a0f239-bad3-4fcb-bfc1-3c1cef1cf3fe' class='xr-var-attrs-in' type='checkbox' ><label for='attrs-03a0f239-bad3-4fcb-bfc1-3c1cef1cf3fe' title='Show/Hide attributes'><svg class='icon xr-icon-file-text2'><use xlink:href='#icon-file-text2'></use></svg></label><input id='data-263b5299-cd34-4efb-a65f-056c3729c729' class='xr-var-data-in' type='checkbox'><label for='data-263b5299-cd34-4efb-a65f-056c3729c729' title='Show/Hide data repr'><svg class='icon xr-icon-database'><use xlink:href='#icon-database'></use></svg></label><div class='xr-var-attrs'><dl class='xr-attrs'><dt><span>long_name :</span></dt><dd>Count of all valid half-hourly HQprecipitation retrievals for the day</dd><dt><span>units :</span></dt><dd>count</dd></dl></div><div class='xr-var-data'><pre>array([[[6, 6, 6, 6, 6, 6, 6, 6],\n",
       "        [6, 6, 6, 6, 6, 6, 6, 5],\n",
       "        [6, 6, 6, 6, 6, 6, 6, 6],\n",
       "        [6, 6, 6, 6, 6, 6, 6, 5],\n",
       "        [5, 6, 6, 6, 6, 6, 6, 6],\n",
       "        [5, 6, 6, 6, 6, 6, 6, 6],\n",
       "        [5, 5, 6, 6, 6, 6, 5, 5],\n",
       "        [5, 6, 6, 6, 6, 5, 5, 6],\n",
       "        [5, 5, 6, 6, 6, 5, 5, 5],\n",
       "        [5, 5, 6, 6, 6, 6, 6, 6]]], dtype=int8)</pre></div></li><li class='xr-var-item'><div class='xr-var-name'><span>HQprecipitation_cnt_cond</span></div><div class='xr-var-dims'>(time, lon, lat)</div><div class='xr-var-dtype'>int8</div><div class='xr-var-preview xr-preview'>...</div><input id='attrs-4ccf4055-4868-4b25-93ba-45c375c5ec00' class='xr-var-attrs-in' type='checkbox' ><label for='attrs-4ccf4055-4868-4b25-93ba-45c375c5ec00' title='Show/Hide attributes'><svg class='icon xr-icon-file-text2'><use xlink:href='#icon-file-text2'></use></svg></label><input id='data-666cc297-6ea3-4488-b132-fe4efec44c32' class='xr-var-data-in' type='checkbox'><label for='data-666cc297-6ea3-4488-b132-fe4efec44c32' title='Show/Hide data repr'><svg class='icon xr-icon-database'><use xlink:href='#icon-database'></use></svg></label><div class='xr-var-attrs'><dl class='xr-attrs'><dt><span>long_name :</span></dt><dd>Count of valid half-hourly HQprecipitation retrievals for the day where precipitation is greater than 0</dd><dt><span>units :</span></dt><dd>count</dd></dl></div><div class='xr-var-data'><pre>array([[[1, 0, 0, 0, 0, 0, 0, 0],\n",
       "        [1, 0, 0, 0, 0, 0, 0, 0],\n",
       "        [1, 0, 0, 0, 0, 0, 0, 0],\n",
       "        [0, 0, 0, 0, 0, 0, 0, 0],\n",
       "        [0, 0, 1, 1, 0, 0, 0, 0],\n",
       "        [0, 0, 0, 0, 0, 0, 0, 0],\n",
       "        [1, 0, 0, 0, 0, 0, 0, 0],\n",
       "        [1, 0, 0, 0, 0, 0, 0, 0],\n",
       "        [0, 1, 0, 0, 0, 0, 0, 0],\n",
       "        [1, 1, 1, 0, 0, 0, 0, 0]]], dtype=int8)</pre></div></li><li class='xr-var-item'><div class='xr-var-name'><span>randomError</span></div><div class='xr-var-dims'>(time, lon, lat)</div><div class='xr-var-dtype'>float32</div><div class='xr-var-preview xr-preview'>...</div><input id='attrs-a8ecd9f4-c196-4d69-9fd2-fc2b981df405' class='xr-var-attrs-in' type='checkbox' ><label for='attrs-a8ecd9f4-c196-4d69-9fd2-fc2b981df405' title='Show/Hide attributes'><svg class='icon xr-icon-file-text2'><use xlink:href='#icon-file-text2'></use></svg></label><input id='data-d40a5846-ad15-490f-94b9-52c6b1ca49ba' class='xr-var-data-in' type='checkbox'><label for='data-d40a5846-ad15-490f-94b9-52c6b1ca49ba' title='Show/Hide data repr'><svg class='icon xr-icon-database'><use xlink:href='#icon-database'></use></svg></label><div class='xr-var-attrs'><dl class='xr-attrs'><dt><span>long_name :</span></dt><dd>Daily total error of precipitation estimate</dd><dt><span>units :</span></dt><dd>mm</dd></dl></div><div class='xr-var-data'><pre>array([[[13.760448,  9.397894,  8.765787, 10.672713, 12.105959, 14.653359,\n",
       "         13.081042,  9.457083],\n",
       "        [11.610915,  8.918891,  8.177813, 11.515466, 11.307599, 13.748786,\n",
       "         11.888914, 10.361292],\n",
       "        [11.082093,  8.056734, 12.183747,  9.897917,  9.720818, 11.970945,\n",
       "          9.358232,  5.190583],\n",
       "        [12.521567,  8.985579, 10.994333,  9.362612,  6.660568, 10.810564,\n",
       "          9.720361,  5.657806],\n",
       "        [14.459599, 10.065722, 10.212798,  9.786041,  6.950265,  9.948825,\n",
       "          6.88383 ,  4.316701],\n",
       "        [12.798636, 11.514977,  8.592039, 10.484301, 10.12714 ,  9.532238,\n",
       "          6.233066,  4.186017],\n",
       "        [ 9.218717, 11.696634, 11.402668, 12.604445, 11.672242, 10.406164,\n",
       "          7.417462,  3.9439  ],\n",
       "        [ 8.530846, 10.049114, 10.217375, 11.880745, 11.208816,  9.240979,\n",
       "          6.641217,  3.025749],\n",
       "        [ 7.782557,  8.258595, 12.005646, 12.398702, 13.724877, 10.259969,\n",
       "          7.758992,  4.590747],\n",
       "        [ 8.511134, 10.289679,  8.194305,  9.068035, 12.960916, 12.413224,\n",
       "         10.263841,  5.539718]]], dtype=float32)</pre></div></li><li class='xr-var-item'><div class='xr-var-name'><span>randomError_cnt</span></div><div class='xr-var-dims'>(time, lon, lat)</div><div class='xr-var-dtype'>int8</div><div class='xr-var-preview xr-preview'>...</div><input id='attrs-7e608774-e39f-4426-aa8d-324eed67eca7' class='xr-var-attrs-in' type='checkbox' ><label for='attrs-7e608774-e39f-4426-aa8d-324eed67eca7' title='Show/Hide attributes'><svg class='icon xr-icon-file-text2'><use xlink:href='#icon-file-text2'></use></svg></label><input id='data-0e6ba68e-9900-41a5-aecc-6bafbb046ccc' class='xr-var-data-in' type='checkbox'><label for='data-0e6ba68e-9900-41a5-aecc-6bafbb046ccc' title='Show/Hide data repr'><svg class='icon xr-icon-database'><use xlink:href='#icon-database'></use></svg></label><div class='xr-var-attrs'><dl class='xr-attrs'><dt><span>long_name :</span></dt><dd>Count of valid half-hourly randomError retrievals for the day</dd><dt><span>units :</span></dt><dd>count</dd></dl></div><div class='xr-var-data'><pre>array([[[48, 48, 48, 48, 48, 48, 48, 48],\n",
       "        [48, 48, 48, 48, 48, 48, 48, 48],\n",
       "        [48, 48, 48, 48, 48, 48, 48, 48],\n",
       "        [48, 48, 48, 48, 48, 48, 48, 48],\n",
       "        [48, 48, 48, 48, 48, 48, 48, 48],\n",
       "        [48, 48, 48, 48, 48, 48, 48, 48],\n",
       "        [48, 48, 48, 48, 48, 48, 48, 48],\n",
       "        [48, 48, 48, 48, 48, 48, 48, 48],\n",
       "        [48, 48, 48, 48, 48, 48, 48, 48],\n",
       "        [48, 48, 48, 48, 48, 48, 48, 48]]], dtype=int8)</pre></div></li></ul></div></li><li class='xr-section-item'><input id='section-50cab1c9-36a1-4d55-8945-c28bb218cb2a' class='xr-section-summary-in' type='checkbox'  ><label for='section-50cab1c9-36a1-4d55-8945-c28bb218cb2a' class='xr-section-summary' >Attributes: <span>(13)</span></label><div class='xr-section-inline-details'></div><div class='xr-section-details'><dl class='xr-attrs'><dt><span>CDI :</span></dt><dd>Climate Data Interface version 1.9.3 (http://mpimet.mpg.de/cdi)</dd><dt><span>Conventions :</span></dt><dd>CF-1.6</dd><dt><span>history :</span></dt><dd>Thu Jul 22 17:26:53 2021: cdo -remapcon,C:/SuSe2021/RemoteSensinginHydrology/Voluntary/TRMM_3B42/Processed/crop_3B42_Daily.20010101.7.nc4 -sellonlatbox,84.5,87,26.5,28.5 3B-DAY.MS.MRG.3IMERG.20010101-S000000-E235959.V06.nc4 0.25_3B-DAY.MS.MRG.3IMERG.20010101-S000000-E235959.V06.nc4</dd><dt><span>BeginDate :</span></dt><dd>2001-01-01</dd><dt><span>BeginTime :</span></dt><dd>00:00:00.000Z</dd><dt><span>EndDate :</span></dt><dd>2001-01-01</dd><dt><span>EndTime :</span></dt><dd>23:59:59.999Z</dd><dt><span>FileHeader :</span></dt><dd>StartGranuleDateTime=2001-01-01T00:00:00.000Z;\n",
       "StopGranuleDateTime=2001-01-01T23:59:59.999Z</dd><dt><span>InputPointer :</span></dt><dd>3B-HHR.MS.MRG.3IMERG.20010101-S000000-E002959.0000.V06B.HDF5;3B-HHR.MS.MRG.3IMERG.20010101-S003000-E005959.0030.V06B.HDF5;3B-HHR.MS.MRG.3IMERG.20010101-S010000-E012959.0060.V06B.HDF5;3B-HHR.MS.MRG.3IMERG.20010101-S013000-E015959.0090.V06B.HDF5;3B-HHR.MS.MRG.3IMERG.20010101-S020000-E022959.0120.V06B.HDF5;3B-HHR.MS.MRG.3IMERG.20010101-S023000-E025959.0150.V06B.HDF5;3B-HHR.MS.MRG.3IMERG.20010101-S030000-E032959.0180.V06B.HDF5;3B-HHR.MS.MRG.3IMERG.20010101-S033000-E035959.0210.V06B.HDF5;3B-HHR.MS.MRG.3IMERG.20010101-S040000-E042959.0240.V06B.HDF5;3B-HHR.MS.MRG.3IMERG.20010101-S043000-E045959.0270.V06B.HDF5;3B-HHR.MS.MRG.3IMERG.20010101-S050000-E052959.0300.V06B.HDF5;3B-HHR.MS.MRG.3IMERG.20010101-S053000-E055959.0330.V06B.HDF5;3B-HHR.MS.MRG.3IMERG.20010101-S060000-E062959.0360.V06B.HDF5;3B-HHR.MS.MRG.3IMERG.20010101-S063000-E065959.0390.V06B.HDF5;3B-HHR.MS.MRG.3IMERG.20010101-S070000-E072959.0420.V06B.HDF5;3B-HHR.MS.MRG.3IMERG.20010101-S073000-E075959.0450.V06B.HDF5;3B-HHR.MS.MRG.3IMERG.20010101-S080000-E082959.0480.V06B.HDF5;3B-HHR.MS.MRG.3IMERG.20010101-S083000-E085959.0510.V06B.HDF5;3B-HHR.MS.MRG.3IMERG.20010101-S090000-E092959.0540.V06B.HDF5;3B-HHR.MS.MRG.3IMERG.20010101-S093000-E095959.0570.V06B.HDF5;3B-HHR.MS.MRG.3IMERG.20010101-S100000-E102959.0600.V06B.HDF5;3B-HHR.MS.MRG.3IMERG.20010101-S103000-E105959.0630.V06B.HDF5;3B-HHR.MS.MRG.3IMERG.20010101-S110000-E112959.0660.V06B.HDF5;3B-HHR.MS.MRG.3IMERG.20010101-S113000-E115959.0690.V06B.HDF5;3B-HHR.MS.MRG.3IMERG.20010101-S120000-E122959.0720.V06B.HDF5;3B-HHR.MS.MRG.3IMERG.20010101-S123000-E125959.0750.V06B.HDF5;3B-HHR.MS.MRG.3IMERG.20010101-S130000-E132959.0780.V06B.HDF5;3B-HHR.MS.MRG.3IMERG.20010101-S133000-E135959.0810.V06B.HDF5;3B-HHR.MS.MRG.3IMERG.20010101-S140000-E142959.0840.V06B.HDF5;3B-HHR.MS.MRG.3IMERG.20010101-S143000-E145959.0870.V06B.HDF5;3B-HHR.MS.MRG.3IMERG.20010101-S150000-E152959.0900.V06B.HDF5;3B-HHR.MS.MRG.3IMERG.20010101-S153000-E155959.0930.V06B.HDF5;3B-HHR.MS.MRG.3IMERG.20010101-S160000-E162959.0960.V06B.HDF5;3B-HHR.MS.MRG.3IMERG.20010101-S163000-E165959.0990.V06B.HDF5;3B-HHR.MS.MRG.3IMERG.20010101-S170000-E172959.1020.V06B.HDF5;3B-HHR.MS.MRG.3IMERG.20010101-S173000-E175959.1050.V06B.HDF5;3B-HHR.MS.MRG.3IMERG.20010101-S180000-E182959.1080.V06B.HDF5;3B-HHR.MS.MRG.3IMERG.20010101-S183000-E185959.1110.V06B.HDF5;3B-HHR.MS.MRG.3IMERG.20010101-S190000-E192959.1140.V06B.HDF5;3B-HHR.MS.MRG.3IMERG.20010101-S193000-E195959.1170.V06B.HDF5;3B-HHR.MS.MRG.3IMERG.20010101-S200000-E202959.1200.V06B.HDF5;3B-HHR.MS.MRG.3IMERG.20010101-S203000-E205959.1230.V06B.HDF5;3B-HHR.MS.MRG.3IMERG.20010101-S210000-E212959.1260.V06B.HDF5;3B-HHR.MS.MRG.3IMERG.20010101-S213000-E215959.1290.V06B.HDF5;3B-HHR.MS.MRG.3IMERG.20010101-S220000-E222959.1320.V06B.HDF5;3B-HHR.MS.MRG.3IMERG.20010101-S223000-E225959.1350.V06B.HDF5;3B-HHR.MS.MRG.3IMERG.20010101-S230000-E232959.1380.V06B.HDF5;3B-HHR.MS.MRG.3IMERG.20010101-S233000-E235959.1410.V06B.HDF5</dd><dt><span>title :</span></dt><dd>GPM IMERG Final Precipitation L3 1 day 0.1 degree x 0.1 degree (GPM_3IMERGDF)</dd><dt><span>DOI :</span></dt><dd>10.5067/GPM/IMERGDF/DAY/06</dd><dt><span>ProductionTime :</span></dt><dd>2019-06-19T21:01:03.134Z</dd><dt><span>CDO :</span></dt><dd>Climate Data Operators version 1.9.4rc1 (http://mpimet.mpg.de/cdo)</dd></dl></div></li></ul></div></div>"
      ],
      "text/plain": [
       "<xarray.Dataset>\n",
       "Dimensions:                    (bnds: 2, lat: 8, lon: 10, time: 1)\n",
       "Coordinates:\n",
       "  * time                       (time) datetime64[ns] 2001-01-01\n",
       "  * lon                        (lon) float32 84.62 84.88 85.12 ... 86.62 86.88\n",
       "  * lat                        (lat) float32 26.62 26.88 27.12 ... 28.12 28.38\n",
       "Dimensions without coordinates: bnds\n",
       "Data variables:\n",
       "    time_bnds                  (time, bnds) datetime64[ns] ...\n",
       "    precipitationCal           (time, lon, lat) float32 ...\n",
       "    precipitationCal_cnt       (time, lon, lat) int8 ...\n",
       "    precipitationCal_cnt_cond  (time, lon, lat) int8 ...\n",
       "    HQprecipitation            (time, lon, lat) float32 ...\n",
       "    HQprecipitation_cnt        (time, lon, lat) int8 ...\n",
       "    HQprecipitation_cnt_cond   (time, lon, lat) int8 ...\n",
       "    randomError                (time, lon, lat) float32 ...\n",
       "    randomError_cnt            (time, lon, lat) int8 ...\n",
       "Attributes: (12/13)\n",
       "    CDI:             Climate Data Interface version 1.9.3 (http://mpimet.mpg....\n",
       "    Conventions:     CF-1.6\n",
       "    history:         Thu Jul 22 17:26:53 2021: cdo -remapcon,C:/SuSe2021/Remo...\n",
       "    BeginDate:       2001-01-01\n",
       "    BeginTime:       00:00:00.000Z\n",
       "    EndDate:         2001-01-01\n",
       "    ...              ...\n",
       "    FileHeader:      StartGranuleDateTime=2001-01-01T00:00:00.000Z;\\nStopGran...\n",
       "    InputPointer:    3B-HHR.MS.MRG.3IMERG.20010101-S000000-E002959.0000.V06B....\n",
       "    title:           GPM IMERG Final Precipitation L3 1 day 0.1 degree x 0.1 ...\n",
       "    DOI:             10.5067/GPM/IMERGDF/DAY/06\n",
       "    ProductionTime:  2019-06-19T21:01:03.134Z\n",
       "    CDO:             Climate Data Operators version 1.9.4rc1 (http://mpimet.m..."
      ]
     },
     "execution_count": 11,
     "metadata": {},
     "output_type": "execute_result"
    }
   ],
   "source": [
    "# Importing dataset and visualising the datastructure\n",
    "filepath_data1 = 'C:/SuSe2021/RemoteSensinginHydrology/Voluntary/GPM_IMERG/Processed/2001/*.nc4'\n",
    "files_1 = glob.glob(filepath_data1)\n",
    "dataset1 = xr.open_dataset(files_1[0])\n",
    "dataset1"
   ]
  },
  {
   "cell_type": "code",
   "execution_count": 2,
   "id": "c7b28f3e",
   "metadata": {},
   "outputs": [],
   "source": [
    "#Function to compare TRMM with CHIRPS\n",
    "#filepath_data1 is the path to TRMM and filepath_data2 is the path to CHIRPS \n",
    "def evaluateTRMM(filepath_data1,filepath_data2):\n",
    "    hit = 0\n",
    "    false_alarm = 0\n",
    "    miss = 0 \n",
    "    null = 0\n",
    "    files_1 = glob.glob(filepath_data1) #Listing files within folder\n",
    "    files_2=glob.glob(filepath_data2)\n",
    "    for j in range(0,len(files_2)):\n",
    "        for i in range(0,len(files_1)):\n",
    "            dataset1 = xr.open_dataset(files_1[i]) #Opening TRMM datasets\n",
    "            ppt_dataset1 = np.array(dataset1['precipitation'][:]) #Accessing precipitation data\n",
    "            dataset2 = xr.open_dataset(files_2[j]) #Opening CHIRPS datasets\n",
    "            ppt_dataset2 = np.transpose(np.array(dataset2['precip'][i])) #Accessing precipitation data\n",
    "            #Computing metrics \n",
    "            hit = hit + np.logical_and(ppt_dataset1 > 0, ppt_dataset2 >0)\n",
    "            false_alarm = false_alarm + np.logical_and(ppt_dataset1 > 0, ppt_dataset2 == 0) \n",
    "            miss = miss + np.logical_and(ppt_dataset1 == 0, ppt_dataset2 > 0) \n",
    "            null = null + np.logical_and(ppt_dataset1 == 0, ppt_dataset2 == 0) \n",
    "    return np.sum(hit), np.sum(false_alarm), np.sum(miss), np.sum(null)"
   ]
  },
  {
   "cell_type": "code",
   "execution_count": 22,
   "id": "c4ff74a9",
   "metadata": {},
   "outputs": [
    {
     "data": {
      "text/plain": [
       "(7208, 4659, 1986, 15347)"
      ]
     },
     "execution_count": 22,
     "metadata": {},
     "output_type": "execute_result"
    }
   ],
   "source": [
    "#Computing the no of hits, false, miss, null for different years\n",
    "result_TRMM_2001 = evaluateTRMM('C:/SuSe2021/RemoteSensinginHydrology/Voluntary/TRMM_3B42/Processed/2001/*.nc4','C:/SuSe2021/RemoteSensinginHydrology/Voluntary/CHIRPS0_25/processed/2001/*.nc')\n",
    "result_TRMM_2001"
   ]
  },
  {
   "cell_type": "code",
   "execution_count": 4,
   "id": "3f93a7bf",
   "metadata": {},
   "outputs": [],
   "source": [
    "result_TRMM_2002 = evaluateTRMM('C:/SuSe2021/RemoteSensinginHydrology/Voluntary/TRMM_3B42/Processed/2002/*.nc4','C:/SuSe2021/RemoteSensinginHydrology/Voluntary/CHIRPS0_25/processed/2002/*.nc')"
   ]
  },
  {
   "cell_type": "code",
   "execution_count": 5,
   "id": "9983a1ec",
   "metadata": {},
   "outputs": [
    {
     "data": {
      "text/plain": [
       "(6809, 4889, 2155, 15347)"
      ]
     },
     "execution_count": 5,
     "metadata": {},
     "output_type": "execute_result"
    }
   ],
   "source": [
    "result_TRMM_2002"
   ]
  },
  {
   "cell_type": "code",
   "execution_count": 6,
   "id": "40a20231",
   "metadata": {},
   "outputs": [],
   "source": [
    "result_TRMM_2003 = evaluateTRMM('C:/SuSe2021/RemoteSensinginHydrology/Voluntary/TRMM_3B42/Processed/2003/*.nc4','C:/SuSe2021/RemoteSensinginHydrology/Voluntary/CHIRPS0_25/processed/2003/*.nc')"
   ]
  },
  {
   "cell_type": "code",
   "execution_count": 7,
   "id": "88e9dfaf",
   "metadata": {},
   "outputs": [
    {
     "data": {
      "text/plain": [
       "(7071, 4601, 1979, 15549)"
      ]
     },
     "execution_count": 7,
     "metadata": {},
     "output_type": "execute_result"
    }
   ],
   "source": [
    "result_TRMM_2003"
   ]
  },
  {
   "cell_type": "code",
   "execution_count": 14,
   "id": "8485fd33",
   "metadata": {},
   "outputs": [],
   "source": [
    "#Function to evaluate GPM \n",
    "#filepath_data1 is the path to IMERG and filepath_data2 is the path to CHIRPS \n",
    "def evaluateGPM(filepath_data1,filepath_data2):\n",
    "    hit = 0\n",
    "    false_alarm = 0\n",
    "    miss = 0 \n",
    "    null = 0\n",
    "    files_1 = glob.glob(filepath_data1)\n",
    "    files_2=glob.glob(filepath_data2)\n",
    "    for j in range(0,len(files_2)):\n",
    "        for i in range(0,len(files_1)):\n",
    "            dataset1 = xr.open_dataset(files_1[i])\n",
    "            ppt_dataset1 = np.array(dataset1['precipitationCal'][:])\n",
    "            dataset2 = xr.open_dataset(files_2[j])\n",
    "            ppt_dataset2 = np.transpose(np.array(dataset2['precip'][i]))\n",
    "            hit = hit + np.logical_and(ppt_dataset1 > 0, ppt_dataset2 >0)\n",
    "            false_alarm = false_alarm + np.logical_and(ppt_dataset1 > 0, ppt_dataset2 == 0) \n",
    "            miss = miss + np.logical_and(ppt_dataset1 == 0, ppt_dataset2 > 0) \n",
    "            null = null + np.logical_and(ppt_dataset1 == 0, ppt_dataset2 == 0) \n",
    "    return np.sum(hit), np.sum(false_alarm), np.sum(miss), np.sum(null)"
   ]
  },
  {
   "cell_type": "code",
   "execution_count": 17,
   "id": "368ed62f",
   "metadata": {},
   "outputs": [],
   "source": [
    "result_GPM_2001 = evaluateGPM('C:/SuSe2021/RemoteSensinginHydrology/Voluntary/GPM_IMERG/Processed/2001/*.nc4','C:/SuSe2021/RemoteSensinginHydrology/Voluntary/CHIRPS0_25/processed/2001/*.nc')"
   ]
  },
  {
   "cell_type": "code",
   "execution_count": 18,
   "id": "2052fe2b",
   "metadata": {},
   "outputs": [
    {
     "data": {
      "text/plain": [
       "(8771, 9265, 423, 10741)"
      ]
     },
     "execution_count": 18,
     "metadata": {},
     "output_type": "execute_result"
    }
   ],
   "source": [
    "result_GPM_2001"
   ]
  },
  {
   "cell_type": "code",
   "execution_count": 19,
   "id": "10c06e92",
   "metadata": {},
   "outputs": [
    {
     "data": {
      "text/plain": [
       "(8652, 10842, 312, 9394)"
      ]
     },
     "execution_count": 19,
     "metadata": {},
     "output_type": "execute_result"
    }
   ],
   "source": [
    "result_GPM_2002 = evaluateGPM('C:/SuSe2021/RemoteSensinginHydrology/Voluntary/GPM_IMERG/Processed/2002/*.nc4','C:/SuSe2021/RemoteSensinginHydrology/Voluntary/CHIRPS0_25/processed/2002/*.nc')\n",
    "result_GPM_2002"
   ]
  },
  {
   "cell_type": "code",
   "execution_count": 20,
   "id": "a30030fd",
   "metadata": {},
   "outputs": [
    {
     "data": {
      "text/plain": [
       "(8809, 10827, 241, 9323)"
      ]
     },
     "execution_count": 20,
     "metadata": {},
     "output_type": "execute_result"
    }
   ],
   "source": [
    "result_GPM_2003 = evaluateGPM('C:/SuSe2021/RemoteSensinginHydrology/Voluntary/GPM_IMERG/Processed/2003/*.nc4','C:/SuSe2021/RemoteSensinginHydrology/Voluntary/CHIRPS0_25/processed/2003/*.nc')\n",
    "result_GPM_2003"
   ]
  },
  {
   "cell_type": "code",
   "execution_count": 25,
   "id": "a07fef51",
   "metadata": {},
   "outputs": [],
   "source": [
    "TRMM_Hit =  result_TRMM_2001[0]+result_TRMM_2002[0]+result_TRMM_2003[0]"
   ]
  },
  {
   "cell_type": "code",
   "execution_count": 26,
   "id": "a3d68f61",
   "metadata": {},
   "outputs": [],
   "source": [
    "TRMM_False = result_TRMM_2001[1]+result_TRMM_2002[1]+result_TRMM_2003[1]"
   ]
  },
  {
   "cell_type": "code",
   "execution_count": 28,
   "id": "7cee0c6d",
   "metadata": {},
   "outputs": [],
   "source": [
    "TRMM_Miss = result_TRMM_2001[2]+result_TRMM_2002[2]+result_TRMM_2003[2]"
   ]
  },
  {
   "cell_type": "code",
   "execution_count": 31,
   "id": "791d4b57",
   "metadata": {},
   "outputs": [
    {
     "data": {
      "text/plain": [
       "0.7895839458982652"
      ]
     },
     "execution_count": 31,
     "metadata": {},
     "output_type": "execute_result"
    }
   ],
   "source": [
    "#Computation of metrics \n",
    "TRMM_POD = TRMM_Hit/(TRMM_Hit+TRMM_Miss)\n",
    "TRMM_POD"
   ]
  },
  {
   "cell_type": "code",
   "execution_count": 33,
   "id": "41931140",
   "metadata": {},
   "outputs": [
    {
     "data": {
      "text/plain": [
       "0.48359414437152953"
      ]
     },
     "execution_count": 33,
     "metadata": {},
     "output_type": "execute_result"
    }
   ],
   "source": [
    "TRMM_FAR = TRMM_False/(TRMM_Hit+TRMM_False)\n",
    "TRMM_FAR"
   ]
  },
  {
   "cell_type": "code",
   "execution_count": 35,
   "id": "c96f9081",
   "metadata": {},
   "outputs": [
    {
     "data": {
      "text/plain": [
       "0.4539365253771711"
      ]
     },
     "execution_count": 35,
     "metadata": {},
     "output_type": "execute_result"
    }
   ],
   "source": [
    "TRMM_CSI = TRMM_Hit/(TRMM_Hit+TRMM_Miss+TRMM_False)\n",
    "TRMM_CSI"
   ]
  },
  {
   "cell_type": "code",
   "execution_count": 36,
   "id": "9145e3f7",
   "metadata": {},
   "outputs": [],
   "source": [
    "GPM_Hit =  result_GPM_2001[0]+result_GPM_2002[0]+result_GPM_2003[0]\n",
    "GPM_False = result_GPM_2001[1]+result_GPM_2002[1]+result_GPM_2003[1]\n",
    "GPM_Miss = result_GPM_2001[2]+result_GPM_2002[2]+result_GPM_2003[2]"
   ]
  },
  {
   "cell_type": "code",
   "execution_count": 37,
   "id": "eab5d09e",
   "metadata": {},
   "outputs": [
    {
     "data": {
      "text/plain": [
       "0.9641281975889444"
      ]
     },
     "execution_count": 37,
     "metadata": {},
     "output_type": "execute_result"
    }
   ],
   "source": [
    "GPM_POD = GPM_Hit/(GPM_Hit+GPM_Miss)\n",
    "GPM_POD"
   ]
  },
  {
   "cell_type": "code",
   "execution_count": 38,
   "id": "7707d70b",
   "metadata": {},
   "outputs": [
    {
     "data": {
      "text/plain": [
       "0.5411258440331665"
      ]
     },
     "execution_count": 38,
     "metadata": {},
     "output_type": "execute_result"
    }
   ],
   "source": [
    "GPM_FAR = GPM_False/(GPM_Hit+GPM_False)\n",
    "GPM_FAR"
   ]
  },
  {
   "cell_type": "code",
   "execution_count": 39,
   "id": "484a4cee",
   "metadata": {},
   "outputs": [
    {
     "data": {
      "text/plain": [
       "0.45117127033813764"
      ]
     },
     "execution_count": 39,
     "metadata": {},
     "output_type": "execute_result"
    }
   ],
   "source": [
    "GPM_CSI = GPM_Hit/(GPM_Hit+GPM_Miss+GPM_False)\n",
    "GPM_CSI"
   ]
  }
 ],
 "metadata": {
  "hide_input": false,
  "kernelspec": {
   "display_name": "Python 3 (ipykernel)",
   "language": "python",
   "name": "python3"
  },
  "language_info": {
   "codemirror_mode": {
    "name": "ipython",
    "version": 3
   },
   "file_extension": ".py",
   "mimetype": "text/x-python",
   "name": "python",
   "nbconvert_exporter": "python",
   "pygments_lexer": "ipython3",
   "version": "3.9.6"
  },
  "toc": {
   "base_numbering": 1,
   "nav_menu": {},
   "number_sections": true,
   "sideBar": true,
   "skip_h1_title": false,
   "title_cell": "Table of Contents",
   "title_sidebar": "Contents",
   "toc_cell": false,
   "toc_position": {},
   "toc_section_display": true,
   "toc_window_display": false
  }
 },
 "nbformat": 4,
 "nbformat_minor": 5
}
